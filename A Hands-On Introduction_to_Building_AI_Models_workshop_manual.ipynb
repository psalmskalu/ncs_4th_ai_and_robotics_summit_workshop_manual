{
 "cells": [
  {
   "cell_type": "markdown",
   "id": "f7487f8b-d285-4daf-8392-3a79d147b65e",
   "metadata": {},
   "source": [
    "## Workshop Manual: A Hands-On Introduction to Building AI Models\n",
    "\n",
    "### Workshop Title\n",
    "A Hands-On Introduction to Building AI Models with Keras\n",
    "\n",
    "### Workshop Objective\n",
    "\n",
    "By the end of this session, participants will:\n",
    "- Understand key AI concepts including machine learning, deep learning, and neural networks.\n",
    "- Set up a development environment to build AI models using Keras and TensorFlow.\n",
    "- Build, train, and evaluate a simple neural network on a real-world dataset.\n",
    "- Gain confidence to explore AI model development independently.\n",
    "\n",
    "### Workshop Duration\n",
    "3 Hours\n",
    "\n",
    "### Target Audience\n",
    "Beginners and Intermediate learners with basic programming experience (preferably in Python).\n",
    "\n",
    "### Workshop Outline\n",
    "Session Breakdown (3 hours):\n",
    "0:00 - 0:15 | Introduction & Setup\n",
    "0:15 - 0:35 | Key Concepts and Definitions\n",
    "0:35 - 1:10 | Deep Learning Overview & Keras Intro\n",
    "1:10 - 1:20 | Dataset Introduction\n",
    "1:20 - 2:30 | Code-Along: Building a Neural Network Model\n",
    "2:30 - 2:50 | Model Evaluation and Improvements\n",
    "2:50 - 3:00 | Q&A and Wrap-Up"
   ]
  },
  {
   "cell_type": "raw",
   "id": "117a5d01-96a8-4afa-8de0-74db368ae843",
   "metadata": {},
   "source": []
  },
  {
   "cell_type": "code",
   "execution_count": null,
   "id": "55de3da3-de85-438e-9cf5-3d53778f308a",
   "metadata": {},
   "outputs": [],
   "source": []
  }
 ],
 "metadata": {
  "kernelspec": {
   "display_name": "Python 3 (ipykernel)",
   "language": "python",
   "name": "python3"
  },
  "language_info": {
   "codemirror_mode": {
    "name": "ipython",
    "version": 3
   },
   "file_extension": ".py",
   "mimetype": "text/x-python",
   "name": "python",
   "nbconvert_exporter": "python",
   "pygments_lexer": "ipython3",
   "version": "3.9.6"
  }
 },
 "nbformat": 4,
 "nbformat_minor": 5
}
